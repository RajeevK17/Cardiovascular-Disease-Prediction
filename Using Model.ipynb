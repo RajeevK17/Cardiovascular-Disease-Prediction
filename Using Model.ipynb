{
 "cells": [
  {
   "cell_type": "code",
   "execution_count": null,
   "id": "53268025",
   "metadata": {},
   "outputs": [],
   "source": [
    "# filter warnings\n",
    "import warnings\n",
    "import joblib\n",
    "warnings.filterwarnings(\"ignore\", category=UserWarning)\n",
    "\n",
    "try:\n",
    "    age = int(input('Enter your age (in days): '))\n",
    "    gender = int(input('Enter your gender (1 for female, 2 for male): '))\n",
    "    height = int(input('Enter your height (in cm): '))\n",
    "    weight = int(input('Enter your weight (in Kgs): '))\n",
    "    sys_bp = int(input('Enter your systolic BP: '))\n",
    "    dias_bp = int(input('Enter your diastolic BP: '))\n",
    "    cholesterol = int(input('Enter your cholestrol level (1 for normal, 2 for above normal, 3 for well above normal): '))\n",
    "    glucose = int(input('Enter your glucose level (1 for normal, 2 for above normal, 3 for well above normal): '))\n",
    "    smoker = int(input('Do you smoke? (0 for no, 1 for yes): '))\n",
    "    alcoholic = int(input('Are you alcoholic? (0 for no, 1 for yes): '))\n",
    "    activity = int(input('Do you perform physical activity on a regular basis? (0 for no, 1 for yes): ')) \n",
    "except:\n",
    "    print('Please check your input!')\n",
    "    \n",
    "user_input = [[age, gender, height, weight, sys_bp, dias_bp, cholesterol, glucose, smoker, alcoholic, activity]]\n",
    "\n",
    "model = joblib.load('cvd_prediction.pkl')\n",
    "prediction = model.predict(user_input)\n",
    "\n",
    "if prediction == 0:\n",
    "    print(\"\\n\\n You're out of risk of getting CVD.\")\n",
    "    \n",
    "else:\n",
    "    print(\"\\n\\nYou're at risk of getting CVD. Please consult your doctor!\")\n",
    "        "
   ]
  }
 ],
 "metadata": {
  "kernelspec": {
   "display_name": "Python 3 (ipykernel)",
   "language": "python",
   "name": "python3"
  },
  "language_info": {
   "codemirror_mode": {
    "name": "ipython",
    "version": 3
   },
   "file_extension": ".py",
   "mimetype": "text/x-python",
   "name": "python",
   "nbconvert_exporter": "python",
   "pygments_lexer": "ipython3",
   "version": "3.10.6"
  }
 },
 "nbformat": 4,
 "nbformat_minor": 5
}
